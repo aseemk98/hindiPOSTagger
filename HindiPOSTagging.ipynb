{
 "cells": [
  {
   "cell_type": "code",
   "execution_count": 1,
   "metadata": {},
   "outputs": [],
   "source": [
    "import nltk\n",
    "from nltk.corpus import indian\n",
    "from nltk.tag import tnt\n",
    "import string\n",
    "import re\n",
    "from nltk.tag import tnt\n",
    "from indicnlp.tokenize import indic_tokenize"
   ]
  },
  {
   "cell_type": "code",
   "execution_count": 2,
   "metadata": {},
   "outputs": [
    {
     "name": "stderr",
     "output_type": "stream",
     "text": [
      "[nltk_data] Downloading package punkt to /home/aseem/nltk_data...\n",
      "[nltk_data]   Package punkt is already up-to-date!\n"
     ]
    },
    {
     "data": {
      "text/plain": [
       "True"
      ]
     },
     "execution_count": 2,
     "metadata": {},
     "output_type": "execute_result"
    }
   ],
   "source": [
    "nltk.download('punkt')"
   ]
  },
  {
   "cell_type": "code",
   "execution_count": 4,
   "metadata": {},
   "outputs": [],
   "source": [
    "tagged_set = 'hindi.pos'\n",
    "data = indian.tagged_sents(tagged_set)"
   ]
  },
  {
   "cell_type": "code",
   "execution_count": 7,
   "metadata": {},
   "outputs": [],
   "source": [
    "def train_test_splitter(data):\n",
    "    train_data = data[:432]\n",
    "    test_data = data[432:]\n",
    "    return train_data,test_data"
   ]
  },
  {
   "cell_type": "code",
   "execution_count": 8,
   "metadata": {},
   "outputs": [],
   "source": [
    "train_data, test_data = train_test_splitter(data)"
   ]
  },
  {
   "cell_type": "code",
   "execution_count": 9,
   "metadata": {},
   "outputs": [],
   "source": [
    "#model\n",
    "pos_tagger = tnt.TnT()\n"
   ]
  },
  {
   "cell_type": "code",
   "execution_count": 10,
   "metadata": {},
   "outputs": [],
   "source": [
    "pos_tagger.train(train_data)"
   ]
  },
  {
   "cell_type": "code",
   "execution_count": 11,
   "metadata": {},
   "outputs": [
    {
     "data": {
      "text/plain": [
       "0.7476939772110689"
      ]
     },
     "execution_count": 11,
     "metadata": {},
     "output_type": "execute_result"
    }
   ],
   "source": [
    "pos_tagger.evaluate(test_data)"
   ]
  },
  {
   "cell_type": "code",
   "execution_count": 12,
   "metadata": {},
   "outputs": [],
   "source": [
    "text = '३९ गेंदों में दो चौकों और एक छक्के की मदद से ३४ रन बनाने वाले परोरे अंत तक आउट नहीं हुए।'"
   ]
  },
  {
   "cell_type": "code",
   "execution_count": 13,
   "metadata": {},
   "outputs": [],
   "source": [
    "tokenized_text = indic_tokenize.trivial_tokenize(text)"
   ]
  },
  {
   "cell_type": "code",
   "execution_count": 14,
   "metadata": {},
   "outputs": [
    {
     "data": {
      "text/plain": [
       "['३९',\n",
       " 'गेंदों',\n",
       " 'में',\n",
       " 'दो',\n",
       " 'चौकों',\n",
       " 'और',\n",
       " 'एक',\n",
       " 'छक्के',\n",
       " 'की',\n",
       " 'मदद',\n",
       " 'से',\n",
       " '३४',\n",
       " 'रन',\n",
       " 'बनाने',\n",
       " 'वाले',\n",
       " 'परोरे',\n",
       " 'अंत',\n",
       " 'तक',\n",
       " 'आउट',\n",
       " 'नहीं',\n",
       " 'हुए',\n",
       " '।']"
      ]
     },
     "execution_count": 14,
     "metadata": {},
     "output_type": "execute_result"
    }
   ],
   "source": [
    "tokenized_text"
   ]
  },
  {
   "cell_type": "code",
   "execution_count": 15,
   "metadata": {},
   "outputs": [
    {
     "data": {
      "text/plain": [
       "[('३९', 'QFNUM'),\n",
       " ('गेंदों', 'NN'),\n",
       " ('में', 'PREP'),\n",
       " ('दो', 'QFNUM'),\n",
       " ('चौकों', 'QFNUM'),\n",
       " ('और', 'CC'),\n",
       " ('एक', 'QFNUM'),\n",
       " ('छक्के', 'QFNUM'),\n",
       " ('की', 'PREP'),\n",
       " ('मदद', 'NN'),\n",
       " ('से', 'PREP'),\n",
       " ('३४', 'QFNUM'),\n",
       " ('रन', 'NN'),\n",
       " ('बनाने', 'VNN'),\n",
       " ('वाले', 'PREP'),\n",
       " ('परोरे', 'NNP'),\n",
       " ('अंत', 'Unk'),\n",
       " ('तक', 'PREP'),\n",
       " ('आउट', 'JVB'),\n",
       " ('नहीं', 'NEG'),\n",
       " ('हुए', 'VAUX'),\n",
       " ('।', 'PUNC')]"
      ]
     },
     "execution_count": 15,
     "metadata": {},
     "output_type": "execute_result"
    }
   ],
   "source": [
    "pos_tagger.tag(tokenized_text)"
   ]
  },
  {
   "cell_type": "code",
   "execution_count": null,
   "metadata": {},
   "outputs": [],
   "source": []
  }
 ],
 "metadata": {
  "kernelspec": {
   "display_name": "Python 3",
   "language": "python",
   "name": "python3"
  },
  "language_info": {
   "codemirror_mode": {
    "name": "ipython",
    "version": 3
   },
   "file_extension": ".py",
   "mimetype": "text/x-python",
   "name": "python",
   "nbconvert_exporter": "python",
   "pygments_lexer": "ipython3",
   "version": "3.7.3"
  }
 },
 "nbformat": 4,
 "nbformat_minor": 2
}
